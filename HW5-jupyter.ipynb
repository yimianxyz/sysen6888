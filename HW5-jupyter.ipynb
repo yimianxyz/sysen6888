{
  "cells": [
    {
      "cell_type": "markdown",
      "metadata": {
        "id": "HMW7XKe8fP3q"
      },
      "source": [
        "# Problem 1"
      ]
    },
    {
      "cell_type": "code",
      "execution_count": 1,
      "metadata": {
        "id": "MDviqu7rfP3r"
      },
      "outputs": [],
      "source": [
        "import tensorflow as tf\n",
        "from tensorflow.keras.datasets import mnist\n",
        "from tensorflow.keras.models import Sequential, Model\n",
        "from tensorflow.keras.layers import Dense, Conv2D, Conv2DTranspose, Flatten, Reshape, LeakyReLU, MaxPooling2D\n",
        "from tensorflow.keras.optimizers import Adam\n",
        "import numpy as np\n",
        "import matplotlib.pyplot as plt\n"
      ]
    },
    {
      "cell_type": "code",
      "source": [
        "# Load MNIST data\n",
        "(train_images, _), (_, _) = mnist.load_data()\n",
        "# Normalize images to [-1, 1]\n",
        "train_images = (train_images - 127.5) / 127.5\n",
        "train_images = np.expand_dims(train_images, axis=3)\n"
      ],
      "metadata": {
        "id": "e0wiN0SyNBWg",
        "outputId": "3a26619e-e9f6-4edf-a1a4-b1b66c5009d6",
        "colab": {
          "base_uri": "https://localhost:8080/"
        }
      },
      "execution_count": 2,
      "outputs": [
        {
          "output_type": "stream",
          "name": "stdout",
          "text": [
            "Downloading data from https://storage.googleapis.com/tensorflow/tf-keras-datasets/mnist.npz\n",
            "11490434/11490434 [==============================] - 2s 0us/step\n"
          ]
        }
      ]
    },
    {
      "cell_type": "code",
      "source": [
        "def build_discriminator():\n",
        "    model = Sequential()\n",
        "    model.add(Conv2D(32, (3, 3), activation='relu', input_shape=(28, 28, 1)))\n",
        "    model.add(MaxPooling2D((2, 2)))\n",
        "    model.add(Conv2D(64, (3, 3), activation='relu'))\n",
        "    model.add(MaxPooling2D((2, 2)))\n",
        "    model.add(Flatten())\n",
        "    model.add(Dense(1, activation='sigmoid'))\n",
        "    return model\n"
      ],
      "metadata": {
        "id": "7syQlVsLNDck"
      },
      "execution_count": 3,
      "outputs": []
    },
    {
      "cell_type": "code",
      "source": [
        "def build_generator():\n",
        "    model = Sequential()\n",
        "    model.add(Dense(128 * 7 * 7, input_dim=100))\n",
        "    model.add(LeakyReLU(alpha=0.2))\n",
        "    model.add(Reshape((7, 7, 128)))\n",
        "    model.add(Conv2DTranspose(128, (4, 4), strides=(2, 2), padding='same'))\n",
        "    model.add(LeakyReLU(alpha=0.2))\n",
        "    model.add(Conv2DTranspose(1, (7, 7), strides=(2, 2), padding='same', activation='tanh'))\n",
        "    return model\n"
      ],
      "metadata": {
        "id": "E6iQu_2MNFGb"
      },
      "execution_count": 4,
      "outputs": []
    },
    {
      "cell_type": "code",
      "source": [
        "def build_gan(generator, discriminator):\n",
        "    model = Sequential()\n",
        "    model.add(generator)\n",
        "    discriminator.trainable = False\n",
        "    model.add(discriminator)\n",
        "    return model\n"
      ],
      "metadata": {
        "id": "eHVzK9ViNGsm"
      },
      "execution_count": 5,
      "outputs": []
    },
    {
      "cell_type": "code",
      "source": [
        "# Discriminator\n",
        "discriminator = build_discriminator()\n",
        "discriminator.compile(loss='binary_crossentropy', optimizer=Adam(), metrics=['accuracy'])\n",
        "\n",
        "# Generator\n",
        "generator = build_generator()\n",
        "\n",
        "# GAN\n",
        "gan = build_gan(generator, discriminator)\n",
        "gan.compile(loss='binary_crossentropy', optimizer=Adam())\n"
      ],
      "metadata": {
        "id": "lzZ2zC5cNIWh"
      },
      "execution_count": 6,
      "outputs": []
    },
    {
      "cell_type": "code",
      "source": [
        "def plot_generated_images(epoch, generator, examples=10, dim=(1, 10), figsize=(10, 1)):\n",
        "    noise = np.random.normal(0, 1, (examples, 100))\n",
        "    generated_images = generator.predict(noise)\n",
        "    generated_images = generated_images.reshape(examples, 28, 28)\n",
        "    plt.figure(figsize=figsize)\n",
        "    for i in range(generated_images.shape[0]):\n",
        "        plt.subplot(dim[0], dim[1], i+1)\n",
        "        plt.imshow(generated_images[i], interpolation='nearest', cmap='gray_r')\n",
        "        plt.axis('off')\n",
        "    plt.tight_layout()\n",
        "    plt.show()\n"
      ],
      "metadata": {
        "id": "EukId496NMyj"
      },
      "execution_count": 7,
      "outputs": []
    },
    {
      "cell_type": "code",
      "source": [
        "def train(gan, generator, discriminator, epochs, batch_size):\n",
        "    d_losses, g_losses = [], []\n",
        "\n",
        "    for epoch in range(epochs):\n",
        "        # Train discriminator with real images\n",
        "        idx = np.random.randint(0, train_images.shape[0], batch_size)\n",
        "        real_imgs = train_images[idx]\n",
        "        d_loss_real = discriminator.train_on_batch(real_imgs, np.ones((batch_size, 1)))\n",
        "\n",
        "        # Train discriminator with fake images\n",
        "        noise = np.random.normal(0, 1, (batch_size, 100))\n",
        "        fake_imgs = generator.predict(noise)\n",
        "        d_loss_fake = discriminator.train_on_batch(fake_imgs, np.zeros((batch_size, 1)))\n",
        "\n",
        "        # Train generator\n",
        "        noise = np.random.normal(0, 1, (batch_size, 100))\n",
        "        g_loss = gan.train_on_batch(noise, np.ones((batch_size, 1)))\n",
        "\n",
        "        # Store losses\n",
        "        d_losses.append((d_loss_real[0] + d_loss_fake[0]) / 2)\n",
        "        g_losses.append(g_loss)\n",
        "\n",
        "        print(f\"Epoch {epoch+1}/{epochs} | D Loss: {(d_loss_real[0]+d_loss_fake[0])/2} | G Loss: {g_loss}\")\n",
        "\n",
        "        if (epoch + 1) % 10 == 0:\n",
        "            plot_generated_images(epoch, generator)\n",
        "\n",
        "    return d_losses, g_losses\n"
      ],
      "metadata": {
        "id": "5TpqTxEqNKLD"
      },
      "execution_count": 11,
      "outputs": []
    },
    {
      "cell_type": "code",
      "source": [
        "def plot_loss_curves(d_losses, g_losses):\n",
        "    plt.figure(figsize=(10,5))\n",
        "    plt.plot(d_losses, label=\"Discriminator Loss\")\n",
        "    plt.plot(g_losses, label=\"Generator Loss\")\n",
        "    plt.title(\"Loss Curves\")\n",
        "    plt.xlabel(\"Epoch\")\n",
        "    plt.ylabel(\"Loss\")\n",
        "    plt.legend()\n",
        "    plt.show()\n"
      ],
      "metadata": {
        "id": "XG88jHnQNe0v"
      },
      "execution_count": 9,
      "outputs": []
    },
    {
      "cell_type": "code",
      "source": [
        "d_losses, g_losses = train(gan, generator, discriminator, epochs=100, batch_size=128)\n",
        "plot_loss_curves(d_losses, g_losses)\n"
      ],
      "metadata": {
        "id": "DYQAfFvZNj9O",
        "outputId": "313c7d02-835d-4a62-e454-3caa1287fbc8",
        "colab": {
          "base_uri": "https://localhost:8080/",
          "height": 1000
        }
      },
      "execution_count": 12,
      "outputs": [
        {
          "output_type": "stream",
          "name": "stdout",
          "text": [
            "4/4 [==============================] - 0s 2ms/step\n",
            "Epoch 1/100 | D Loss: 0.050672030076384544 | G Loss: 3.8902406692504883\n",
            "4/4 [==============================] - 0s 2ms/step\n",
            "Epoch 2/100 | D Loss: 0.06605417653918266 | G Loss: 4.120032787322998\n",
            "4/4 [==============================] - 0s 2ms/step\n",
            "Epoch 3/100 | D Loss: 0.06144414655864239 | G Loss: 4.361633777618408\n",
            "4/4 [==============================] - 0s 2ms/step\n",
            "Epoch 4/100 | D Loss: 0.07338190451264381 | G Loss: 3.9980056285858154\n",
            "4/4 [==============================] - 0s 2ms/step\n",
            "Epoch 5/100 | D Loss: 0.07521775364875793 | G Loss: 4.191866874694824\n",
            "4/4 [==============================] - 0s 2ms/step\n",
            "Epoch 6/100 | D Loss: 0.09710735455155373 | G Loss: 3.904996871948242\n",
            "4/4 [==============================] - 0s 2ms/step\n",
            "Epoch 7/100 | D Loss: 0.08550747856497765 | G Loss: 3.893592119216919\n",
            "4/4 [==============================] - 0s 2ms/step\n",
            "Epoch 8/100 | D Loss: 0.07822031155228615 | G Loss: 3.8876147270202637\n",
            "4/4 [==============================] - 0s 2ms/step\n",
            "Epoch 9/100 | D Loss: 0.09180799126625061 | G Loss: 4.248767852783203\n",
            "4/4 [==============================] - 0s 6ms/step\n",
            "Epoch 10/100 | D Loss: 0.0720527209341526 | G Loss: 3.8515431880950928\n",
            "1/1 [==============================] - 0s 19ms/step\n"
          ]
        },
        {
          "output_type": "display_data",
          "data": {
            "text/plain": [
              "<Figure size 1000x100 with 10 Axes>"
            ],
            "image/png": "[encoded data removed]"
          },
          "metadata": {}
        },
        {
          "output_type": "stream",
          "name": "stdout",
          "text": [
            "4/4 [==============================] - 0s 2ms/step\n",
            "Epoch 11/100 | D Loss: 0.06994524039328098 | G Loss: 3.705620765686035\n",
            "4/4 [==============================] - 0s 2ms/step\n",
            "Epoch 12/100 | D Loss: 0.08701985329389572 | G Loss: 3.8011295795440674\n",
            "4/4 [==============================] - 0s 2ms/step\n",
            "Epoch 13/100 | D Loss: 0.06757417693734169 | G Loss: 3.944636583328247\n",
            "4/4 [==============================] - 0s 2ms/step\n",
            "Epoch 14/100 | D Loss: 0.08550380915403366 | G Loss: 3.5873990058898926\n",
            "4/4 [==============================] - 0s 2ms/step\n",
            "Epoch 15/100 | D Loss: 0.06215611286461353 | G Loss: 4.003246307373047\n",
            "4/4 [==============================] - 0s 2ms/step\n",
            "Epoch 16/100 | D Loss: 0.06648211181163788 | G Loss: 3.7345454692840576\n",
            "4/4 [==============================] - 0s 2ms/step\n",
            "Epoch 17/100 | D Loss: 0.0841733068227768 | G Loss: 3.7318649291992188\n",
            "4/4 [==============================] - 0s 2ms/step\n",
            "Epoch 18/100 | D Loss: 0.07568006590008736 | G Loss: 3.6521825790405273\n",
            "4/4 [==============================] - 0s 2ms/step\n",
            "Epoch 19/100 | D Loss: 0.05776409991085529 | G Loss: 3.565720558166504\n",
            "4/4 [==============================] - 0s 2ms/step\n",
            "Epoch 20/100 | D Loss: 0.06042316555976868 | G Loss: 3.618942975997925\n",
            "1/1 [==============================] - 0s 18ms/step\n"
          ]
        },
        {
          "output_type": "display_data",
          "data": {
            "text/plain": [
              "<Figure size 1000x100 with 10 Axes>"
            ],
            "image/png": "[encoded data removed]"
          },
          "metadata": {}
        },
        {
          "output_type": "stream",
          "name": "stdout",
          "text": [
            "4/4 [==============================] - 0s 2ms/step\n",
            "Epoch 21/100 | D Loss: 0.06024002283811569 | G Loss: 3.667990207672119\n",
            "4/4 [==============================] - 0s 2ms/step\n",
            "Epoch 22/100 | D Loss: 0.08357360772788525 | G Loss: 3.7358510494232178\n",
            "4/4 [==============================] - 0s 2ms/step\n",
            "Epoch 23/100 | D Loss: 0.07239390909671783 | G Loss: 3.7300262451171875\n",
            "4/4 [==============================] - 0s 2ms/step\n",
            "Epoch 24/100 | D Loss: 0.05928529426455498 | G Loss: 3.6545376777648926\n",
            "4/4 [==============================] - 0s 2ms/step\n",
            "Epoch 25/100 | D Loss: 0.08799563348293304 | G Loss: 3.3023650646209717\n",
            "4/4 [==============================] - 0s 2ms/step\n",
            "Epoch 26/100 | D Loss: 0.06377563625574112 | G Loss: 3.6043272018432617\n",
            "4/4 [==============================] - 0s 2ms/step\n",
            "Epoch 27/100 | D Loss: 0.1369444504380226 | G Loss: 3.2931432723999023\n",
            "4/4 [==============================] - 0s 2ms/step\n",
            "Epoch 28/100 | D Loss: 0.1208755224943161 | G Loss: 3.145266056060791\n",
            "4/4 [==============================] - 0s 2ms/step\n",
            "Epoch 29/100 | D Loss: 0.15148162096738815 | G Loss: 3.4319260120391846\n",
            "4/4 [==============================] - 0s 2ms/step\n",
            "Epoch 30/100 | D Loss: 0.11857223510742188 | G Loss: 3.606027364730835\n",
            "1/1 [==============================] - 0s 20ms/step\n"
          ]
        },
        {
          "output_type": "display_data",
          "data": {
            "text/plain": [
              "<Figure size 1000x100 with 10 Axes>"
            ],
            "image/png": "[encoded data removed]"
          },
          "metadata": {}
        },
        {
          "output_type": "stream",
          "name": "stdout",
          "text": [
            "4/4 [==============================] - 0s 3ms/step\n",
            "Epoch 31/100 | D Loss: 0.1483386904001236 | G Loss: 3.2734320163726807\n",
            "4/4 [==============================] - 0s 2ms/step\n",
            "Epoch 32/100 | D Loss: 0.1691214181482792 | G Loss: 2.927107810974121\n",
            "4/4 [==============================] - 0s 2ms/step\n",
            "Epoch 33/100 | D Loss: 0.18953292071819305 | G Loss: 2.55783748626709\n",
            "4/4 [==============================] - 0s 2ms/step\n",
            "Epoch 34/100 | D Loss: 0.19126661121845245 | G Loss: 2.978842258453369\n",
            "4/4 [==============================] - 0s 2ms/step\n",
            "Epoch 35/100 | D Loss: 0.18784701079130173 | G Loss: 3.0353846549987793\n",
            "4/4 [==============================] - 0s 2ms/step\n",
            "Epoch 36/100 | D Loss: 0.2245062217116356 | G Loss: 2.7247910499572754\n",
            "4/4 [==============================] - 0s 2ms/step\n",
            "Epoch 37/100 | D Loss: 0.2337343692779541 | G Loss: 2.3533053398132324\n",
            "4/4 [==============================] - 0s 2ms/step\n",
            "Epoch 38/100 | D Loss: 0.2540917843580246 | G Loss: 2.4288547039031982\n",
            "4/4 [==============================] - 0s 2ms/step\n",
            "Epoch 39/100 | D Loss: 0.20123805105686188 | G Loss: 2.87056827545166\n",
            "4/4 [==============================] - 0s 2ms/step\n",
            "Epoch 40/100 | D Loss: 0.24043357372283936 | G Loss: 2.8231325149536133\n",
            "1/1 [==============================] - 0s 19ms/step\n"
          ]
        },
        {
          "output_type": "display_data",
          "data": {
            "text/plain": [
              "<Figure size 1000x100 with 10 Axes>"
            ],
            "image/png": "[encoded data removed]"
          },
          "metadata": {}
        },
        {
          "output_type": "stream",
          "name": "stdout",
          "text": [
            "4/4 [==============================] - 0s 2ms/step\n",
            "Epoch 41/100 | D Loss: 0.25136835128068924 | G Loss: 2.629854917526245\n",
            "4/4 [==============================] - 0s 2ms/step\n",
            "Epoch 42/100 | D Loss: 0.1909887194633484 | G Loss: 2.649876594543457\n",
            "4/4 [==============================] - 0s 2ms/step\n",
            "Epoch 43/100 | D Loss: 0.19407271593809128 | G Loss: 2.62459397315979\n",
            "4/4 [==============================] - 0s 2ms/step\n",
            "Epoch 44/100 | D Loss: 0.2215881124138832 | G Loss: 2.763430118560791\n",
            "4/4 [==============================] - 0s 2ms/step\n",
            "Epoch 45/100 | D Loss: 0.19329247623682022 | G Loss: 2.8956961631774902\n",
            "4/4 [==============================] - 0s 2ms/step\n",
            "Epoch 46/100 | D Loss: 0.17021669447422028 | G Loss: 3.026005506515503\n",
            "4/4 [==============================] - 0s 2ms/step\n",
            "Epoch 47/100 | D Loss: 0.20632293820381165 | G Loss: 2.732356548309326\n",
            "4/4 [==============================] - 0s 2ms/step\n",
            "Epoch 48/100 | D Loss: 0.18074125051498413 | G Loss: 2.591421365737915\n",
            "4/4 [==============================] - 0s 2ms/step\n",
            "Epoch 49/100 | D Loss: 0.16163207590579987 | G Loss: 3.0050101280212402\n",
            "4/4 [==============================] - 0s 2ms/step\n",
            "Epoch 50/100 | D Loss: 0.18521761894226074 | G Loss: 2.9363694190979004\n",
            "1/1 [==============================] - 0s 22ms/step\n"
          ]
        },
        {
          "output_type": "display_data",
          "data": {
            "text/plain": [
              "<Figure size 1000x100 with 10 Axes>"
            ],
            "image/png": "[encoded data removed]"
          },
          "metadata": {}
        },
        {
          "output_type": "stream",
          "name": "stdout",
          "text": [
            "4/4 [==============================] - 0s 2ms/step\n",
            "Epoch 51/100 | D Loss: 0.17615897208452225 | G Loss: 2.6715426445007324\n",
            "4/4 [==============================] - 0s 2ms/step\n",
            "Epoch 52/100 | D Loss: 0.17464972287416458 | G Loss: 2.501375198364258\n",
            "4/4 [==============================] - 0s 2ms/step\n",
            "Epoch 53/100 | D Loss: 0.19220944494009018 | G Loss: 2.5534744262695312\n",
            "4/4 [==============================] - 0s 2ms/step\n",
            "Epoch 54/100 | D Loss: 0.1823815405368805 | G Loss: 2.6372408866882324\n",
            "4/4 [==============================] - 0s 2ms/step\n",
            "Epoch 55/100 | D Loss: 0.19458874315023422 | G Loss: 2.8497273921966553\n",
            "4/4 [==============================] - 0s 8ms/step\n",
            "Epoch 56/100 | D Loss: 0.22700338065624237 | G Loss: 2.744622230529785\n",
            "4/4 [==============================] - 0s 2ms/step\n",
            "Epoch 57/100 | D Loss: 0.20913415402173996 | G Loss: 2.615354061126709\n",
            "4/4 [==============================] - 0s 2ms/step\n",
            "Epoch 58/100 | D Loss: 0.22178156673908234 | G Loss: 2.550666332244873\n",
            "4/4 [==============================] - 0s 2ms/step\n",
            "Epoch 59/100 | D Loss: 0.16723652929067612 | G Loss: 2.564201593399048\n",
            "4/4 [==============================] - 0s 4ms/step\n",
            "Epoch 60/100 | D Loss: 0.2505999878048897 | G Loss: 2.564873695373535\n",
            "1/1 [==============================] - 0s 20ms/step\n"
          ]
        },
        {
          "output_type": "display_data",
          "data": {
            "text/plain": [
              "<Figure size 1000x100 with 10 Axes>"
            ],
            "image/png": "[encoded data removed]"
          },
          "metadata": {}
        },
        {
          "output_type": "stream",
          "name": "stdout",
          "text": [
            "4/4 [==============================] - 0s 2ms/step\n",
            "Epoch 61/100 | D Loss: 0.20047879964113235 | G Loss: 2.905930995941162\n",
            "4/4 [==============================] - 0s 2ms/step\n",
            "Epoch 62/100 | D Loss: 0.19017145037651062 | G Loss: 2.9540982246398926\n",
            "4/4 [==============================] - 0s 2ms/step\n",
            "Epoch 63/100 | D Loss: 0.2617279514670372 | G Loss: 2.716183662414551\n",
            "4/4 [==============================] - 0s 2ms/step\n",
            "Epoch 64/100 | D Loss: 0.17670803517103195 | G Loss: 2.5384573936462402\n",
            "4/4 [==============================] - 0s 2ms/step\n",
            "Epoch 65/100 | D Loss: 0.233492910861969 | G Loss: 2.554809331893921\n",
            "4/4 [==============================] - 0s 2ms/step\n",
            "Epoch 66/100 | D Loss: 0.2028425857424736 | G Loss: 2.8688368797302246\n",
            "4/4 [==============================] - 0s 2ms/step\n",
            "Epoch 67/100 | D Loss: 0.26286524534225464 | G Loss: 2.680569887161255\n",
            "4/4 [==============================] - 0s 2ms/step\n",
            "Epoch 68/100 | D Loss: 0.2835698574781418 | G Loss: 2.2122812271118164\n",
            "4/4 [==============================] - 0s 2ms/step\n",
            "Epoch 69/100 | D Loss: 0.18443353474140167 | G Loss: 2.436767578125\n",
            "4/4 [==============================] - 0s 2ms/step\n",
            "Epoch 70/100 | D Loss: 0.21696317195892334 | G Loss: 2.821812868118286\n",
            "1/1 [==============================] - 0s 21ms/step\n"
          ]
        },
        {
          "output_type": "display_data",
          "data": {
            "text/plain": [
              "<Figure size 1000x100 with 10 Axes>"
            ],
            "image/png": "[encoded data removed]"
          },
          "metadata": {}
        },
        {
          "output_type": "stream",
          "name": "stdout",
          "text": [
            "4/4 [==============================] - 0s 2ms/step\n",
            "Epoch 71/100 | D Loss: 0.21276526898145676 | G Loss: 2.974705219268799\n",
            "4/4 [==============================] - 0s 2ms/step\n",
            "Epoch 72/100 | D Loss: 0.21429385244846344 | G Loss: 2.6100540161132812\n",
            "4/4 [==============================] - 0s 2ms/step\n",
            "Epoch 73/100 | D Loss: 0.2123369202017784 | G Loss: 2.7256157398223877\n",
            "4/4 [==============================] - 0s 2ms/step\n",
            "Epoch 74/100 | D Loss: 0.2706579118967056 | G Loss: 2.528613328933716\n",
            "4/4 [==============================] - 0s 2ms/step\n",
            "Epoch 75/100 | D Loss: 0.26982395350933075 | G Loss: 2.197309970855713\n",
            "4/4 [==============================] - 0s 2ms/step\n",
            "Epoch 76/100 | D Loss: 0.21416719257831573 | G Loss: 2.5042638778686523\n",
            "4/4 [==============================] - 0s 2ms/step\n",
            "Epoch 77/100 | D Loss: 0.2478393390774727 | G Loss: 2.8147706985473633\n",
            "4/4 [==============================] - 0s 2ms/step\n",
            "Epoch 78/100 | D Loss: 0.2321566939353943 | G Loss: 2.701521158218384\n",
            "4/4 [==============================] - 0s 2ms/step\n",
            "Epoch 79/100 | D Loss: 0.2592846006155014 | G Loss: 2.5463204383850098\n",
            "4/4 [==============================] - 0s 2ms/step\n",
            "Epoch 80/100 | D Loss: 0.22850888222455978 | G Loss: 2.510690212249756\n",
            "1/1 [==============================] - 0s 20ms/step\n"
          ]
        },
        {
          "output_type": "display_data",
          "data": {
            "text/plain": [
              "<Figure size 1000x100 with 10 Axes>"
            ],
            "image/png": "[encoded data removed]"
          },
          "metadata": {}
        },
        {
          "output_type": "stream",
          "name": "stdout",
          "text": [
            "4/4 [==============================] - 0s 2ms/step\n",
            "Epoch 81/100 | D Loss: 0.2949162498116493 | G Loss: 2.7195520401000977\n",
            "4/4 [==============================] - 0s 2ms/step\n",
            "Epoch 82/100 | D Loss: 0.2783188968896866 | G Loss: 2.4839649200439453\n",
            "4/4 [==============================] - 0s 2ms/step\n",
            "Epoch 83/100 | D Loss: 0.2456776425242424 | G Loss: 2.5550997257232666\n",
            "4/4 [==============================] - 0s 2ms/step\n",
            "Epoch 84/100 | D Loss: 0.26821283996105194 | G Loss: 2.791560649871826\n",
            "4/4 [==============================] - 0s 2ms/step\n",
            "Epoch 85/100 | D Loss: 0.3050956502556801 | G Loss: 2.606884479522705\n",
            "4/4 [==============================] - 0s 2ms/step\n",
            "Epoch 86/100 | D Loss: 0.285495787858963 | G Loss: 2.659940719604492\n",
            "4/4 [==============================] - 0s 2ms/step\n",
            "Epoch 87/100 | D Loss: 0.25107547640800476 | G Loss: 2.649671792984009\n",
            "4/4 [==============================] - 0s 2ms/step\n",
            "Epoch 88/100 | D Loss: 0.25514809787273407 | G Loss: 2.3872838020324707\n",
            "4/4 [==============================] - 0s 2ms/step\n",
            "Epoch 89/100 | D Loss: 0.20189842581748962 | G Loss: 2.5131125450134277\n",
            "4/4 [==============================] - 0s 2ms/step\n",
            "Epoch 90/100 | D Loss: 0.2517509460449219 | G Loss: 2.7019906044006348\n",
            "1/1 [==============================] - 0s 19ms/step\n"
          ]
        },
        {
          "output_type": "display_data",
          "data": {
            "text/plain": [
              "<Figure size 1000x100 with 10 Axes>"
            ],
            "image/png": "[encoded data removed]"
          },
          "metadata": {}
        },
        {
          "output_type": "stream",
          "name": "stdout",
          "text": [
            "4/4 [==============================] - 0s 2ms/step\n",
            "Epoch 91/100 | D Loss: 0.3590688109397888 | G Loss: 2.6122355461120605\n",
            "4/4 [==============================] - 0s 2ms/step\n",
            "Epoch 92/100 | D Loss: 0.2355513721704483 | G Loss: 2.7846906185150146\n",
            "4/4 [==============================] - 0s 2ms/step\n",
            "Epoch 93/100 | D Loss: 0.27120666950941086 | G Loss: 2.50348162651062\n",
            "4/4 [==============================] - 0s 2ms/step\n",
            "Epoch 94/100 | D Loss: 0.28743114322423935 | G Loss: 2.5367672443389893\n",
            "4/4 [==============================] - 0s 2ms/step\n",
            "Epoch 95/100 | D Loss: 0.3040136620402336 | G Loss: 2.0904316902160645\n",
            "4/4 [==============================] - 0s 2ms/step\n",
            "Epoch 96/100 | D Loss: 0.26045721769332886 | G Loss: 2.1559791564941406\n",
            "4/4 [==============================] - 0s 2ms/step\n",
            "Epoch 97/100 | D Loss: 0.2791007161140442 | G Loss: 2.34854793548584\n",
            "4/4 [==============================] - 0s 2ms/step\n",
            "Epoch 98/100 | D Loss: 0.28289932012557983 | G Loss: 2.382744312286377\n",
            "4/4 [==============================] - 0s 2ms/step\n",
            "Epoch 99/100 | D Loss: 0.24591834843158722 | G Loss: 2.5339183807373047\n",
            "4/4 [==============================] - 0s 2ms/step\n",
            "Epoch 100/100 | D Loss: 0.3767528831958771 | G Loss: 2.4866795539855957\n",
            "1/1 [==============================] - 0s 18ms/step\n"
          ]
        },
        {
          "output_type": "display_data",
          "data": {
            "text/plain": [
              "<Figure size 1000x100 with 10 Axes>"
            ],
            "image/png": "[encoded data removed]"
          },
          "metadata": {}
        },
        {
          "output_type": "display_data",
          "data": {
            "text/plain": [
              "<Figure size 1000x500 with 1 Axes>"
            ],
            "image/png": "[encoded data removed]"
          },
          "metadata": {}
        }
      ]
    },
    {
      "cell_type": "code",
      "source": [
        "def generate_images(generator, num_images=5):\n",
        "    noise = np.random.normal(0, 1, (num_images, 100))\n",
        "    generated_images = generator.predict(noise)\n",
        "    generated_images = generated_images.reshape(num_images, 28, 28)\n",
        "\n",
        "    plt.figure(figsize=(10, 2))\n",
        "    for i in range(num_images):\n",
        "        plt.subplot(1, num_images, i+1)\n",
        "        plt.imshow(generated_images[i], interpolation='nearest', cmap='gray_r')\n",
        "        plt.axis('off')\n",
        "    plt.tight_layout()\n",
        "    plt.show()\n",
        "\n",
        "generate_images(generator, num_images=5)\n"
      ],
      "metadata": {
        "id": "jlN5r8FHNO6I",
        "outputId": "37f0d99b-02e0-40e3-f355-f6079065f0db",
        "colab": {
          "base_uri": "https://localhost:8080/",
          "height": 190
        }
      },
      "execution_count": 13,
      "outputs": [
        {
          "output_type": "stream",
          "name": "stdout",
          "text": [
            "1/1 [==============================] - 0s 49ms/step\n"
          ]
        },
        {
          "output_type": "display_data",
          "data": {
            "text/plain": [
              "<Figure size 1000x200 with 5 Axes>"
            ],
            "image/png": "[encoded data removed]"
          },
          "metadata": {}
        }
      ]
    },
    {
      "cell_type": "markdown",
      "metadata": {
        "id": "EizNNQ09fP3t"
      },
      "source": [
        "# Problem 2"
      ]
    },
    {
      "cell_type": "code",
      "source": [
        "!pip install gymnasium"
      ],
      "metadata": {
        "colab": {
          "base_uri": "https://localhost:8080/"
        },
        "id": "vajDlwtEfo1H",
        "outputId": "8851ca1f-bd61-4b34-e7d6-40707cb03fae"
      },
      "execution_count": null,
      "outputs": [
        {
          "output_type": "stream",
          "name": "stdout",
          "text": [
            "Requirement already satisfied: gymnasium in /usr/local/lib/python3.10/dist-packages (0.29.1)\n",
            "Requirement already satisfied: numpy>=1.21.0 in /usr/local/lib/python3.10/dist-packages (from gymnasium) (1.23.5)\n",
            "Requirement already satisfied: cloudpickle>=1.2.0 in /usr/local/lib/python3.10/dist-packages (from gymnasium) (2.2.1)\n",
            "Requirement already satisfied: typing-extensions>=4.3.0 in /usr/local/lib/python3.10/dist-packages (from gymnasium) (4.5.0)\n",
            "Requirement already satisfied: farama-notifications>=0.0.1 in /usr/local/lib/python3.10/dist-packages (from gymnasium) (0.0.4)\n"
          ]
        }
      ]
    },
    {
      "cell_type": "code",
      "execution_count": null,
      "metadata": {
        "id": "_vEM4NnkfP3t"
      },
      "outputs": [],
      "source": [
        "import gymnasium as gym\n",
        "import tensorflow as tf\n",
        "from tensorflow.keras import layers\n",
        "import numpy as np\n",
        "import random\n",
        "import time\n",
        "import matplotlib.pyplot as plt\n"
      ]
    },
    {
      "cell_type": "markdown",
      "source": [
        "##Problem 2a"
      ],
      "metadata": {
        "id": "eXh7WD5HhtEL"
      }
    },
    {
      "cell_type": "code",
      "source": [
        "def create_dqn_model(input_shape, output_shape):\n",
        "    model = tf.keras.Sequential([\n",
        "        layers.Dense(64, activation='relu', input_shape=input_shape),\n",
        "        layers.Dense(64, activation='relu'),\n",
        "        layers.Dense(output_shape, activation=None)\n",
        "    ])\n",
        "    return model\n",
        "\n",
        "def create_dqn_model_large(input_shape, output_shape):\n",
        "    model = tf.keras.Sequential([\n",
        "        layers.Dense(64, activation='relu', input_shape=input_shape),\n",
        "        layers.Dense(128, activation='relu'),\n",
        "        layers.Dense(256, activation='relu'),\n",
        "        layers.Dense(output_shape, activation=None)\n",
        "    ])\n",
        "    return model\n",
        "\n",
        "def create_dqn_model_small(input_shape, output_shape):\n",
        "    model = tf.keras.Sequential([\n",
        "        layers.Dense(16, activation='relu', input_shape=input_shape),\n",
        "        layers.Dense(output_shape, activation=None)\n",
        "    ])\n",
        "    return model\n"
      ],
      "metadata": {
        "id": "wmXAFIIifX71"
      },
      "execution_count": null,
      "outputs": []
    },
    {
      "cell_type": "markdown",
      "source": [
        "##Problem 2b"
      ],
      "metadata": {
        "id": "Yxvh_mtuj12g"
      }
    },
    {
      "cell_type": "code",
      "source": [
        "import numpy as np\n",
        "import random\n",
        "\n",
        "class ReplayBuffer(object):\n",
        "    def __init__(self, size):\n",
        "        \"\"\"Create Replay buffer.\n",
        "\n",
        "        Parameters\n",
        "        ----------\n",
        "        size: int\n",
        "            Max number of transitions to store in the buffer. When the buffer\n",
        "            overflows the old memories are dropped.\n",
        "        \"\"\"\n",
        "        self._storage = []\n",
        "        self._maxsize = size\n",
        "        self._next_idx = 0\n",
        "\n",
        "    def __len__(self):\n",
        "        return len(self._storage)\n",
        "\n",
        "    def add(self, obs_t, action, reward, obs_tp1, done):\n",
        "        data = (obs_t, action, reward, obs_tp1, done)\n",
        "\n",
        "        if self._next_idx >= len(self._storage):\n",
        "            self._storage.append(data)\n",
        "        else:\n",
        "            self._storage[self._next_idx] = data\n",
        "        self._next_idx = (self._next_idx + 1) % self._maxsize\n",
        "\n",
        "    def _encode_sample(self, idxes):\n",
        "        obses_t, actions, rewards, obses_tp1, dones = [], [], [], [], []\n",
        "        for i in idxes:\n",
        "            data = self._storage[i]\n",
        "            obs_t, action, reward, obs_tp1, done = data\n",
        "            obses_t.append(np.array(obs_t, copy=False))\n",
        "            actions.append(np.array(action, copy=False))\n",
        "            rewards.append(reward)\n",
        "            obses_tp1.append(np.array(obs_tp1, copy=False))\n",
        "            dones.append(done)\n",
        "        return np.array(obses_t), np.array(actions), np.array(rewards), np.array(obses_tp1), np.array(dones)\n",
        "\n",
        "    def sample(self, batch_size):\n",
        "        \"\"\"Sample a batch of experiences.\n",
        "\n",
        "        Parameters\n",
        "        ----------\n",
        "        batch_size: int\n",
        "            How many transitions to sample.\n",
        "\n",
        "        Returns\n",
        "        -------\n",
        "        obs_batch: np.array\n",
        "            batch of observations\n",
        "        act_batch: np.array\n",
        "            batch of actions executed given obs_batch\n",
        "        rew_batch: np.array\n",
        "            rewards received as results of executing act_batch\n",
        "        next_obs_batch: np.array\n",
        "            next set of observations seen after executing act_batch\n",
        "        done_mask: np.array\n",
        "            done_mask[i] = 1 if executing act_batch[i] resulted in\n",
        "            the end of an episode and 0 otherwise.\n",
        "        \"\"\"\n",
        "        idxes = [random.randint(0, len(self._storage) - 1) for _ in range(batch_size)]\n",
        "        return self._encode_sample(idxes)\n"
      ],
      "metadata": {
        "id": "2AJPMhWQfqcc"
      },
      "execution_count": null,
      "outputs": []
    },
    {
      "cell_type": "markdown",
      "source": [
        "## Problem 2c"
      ],
      "metadata": {
        "id": "m_hqI6pdlmSg"
      }
    },
    {
      "cell_type": "code",
      "source": [
        "from re import VERBOSE\n",
        "BUFFER_SIZE = 256\n",
        "GAMMA = 0.99\n",
        "\n",
        "env = gym.make('MountainCar-v0')\n",
        "buffer = ReplayBuffer(BUFFER_SIZE)\n",
        "\n",
        "def get_action(state, epsilon, model):\n",
        "    if np.random.rand() < epsilon:\n",
        "        return env.action_space.sample()\n",
        "    else:\n",
        "        Q_values = model.predict(state.reshape(1, -1), verbose=0)\n",
        "        return np.argmax(Q_values[0])\n",
        "\n",
        "\n",
        "def update_dqn_network(model, optimizer, buffer, batch_size):\n",
        "    state_batch, action_batch, reward_batch, next_state_batch, done_batch = buffer.sample(batch_size)\n",
        "    Q_targets_next = model.predict(next_state_batch, verbose=0).max(axis=1)\n",
        "    Q_targets = reward_batch + (GAMMA * Q_targets_next * (1 - done_batch))\n",
        "\n",
        "    with tf.GradientTape() as tape:\n",
        "        Q_expected = model(state_batch)\n",
        "        Q_expected_relevant = tf.reduce_sum(Q_expected * tf.one_hot(action_batch, 3), axis=1)\n",
        "        loss = tf.keras.losses.MSE(Q_expected_relevant, Q_targets)\n",
        "\n",
        "    gradients = tape.gradient(loss, model.trainable_variables)\n",
        "    #optimizer.apply_gradients(zip(gradients, model.trainable_variables))\n"
      ],
      "metadata": {
        "id": "qR2dO8svftv2"
      },
      "execution_count": null,
      "outputs": []
    },
    {
      "cell_type": "code",
      "source": [
        "NUM_EPISODES = 1000\n",
        "EPISODE_SIZE = 500\n",
        "BATCH_SIZE = 128\n",
        "EPS_MAX = 1.0\n",
        "EPS_DECAY = 0.995\n",
        "\n",
        "model = create_dqn_model((2,), 3)  # or create_dqn_model_large, create_dqn_model_small\n",
        "optimizer = tf.keras.optimizers.Adam()\n",
        "rewards = []\n",
        "epsilon = EPS_MAX\n",
        "\n",
        "for episode in range(NUM_EPISODES):\n",
        "    start_time = time.time()  # Start time measurement\n",
        "    episodic_reward = 0\n",
        "    state = env.reset()\n",
        "    state = np.array(state[0], dtype=np.float32)\n",
        "\n",
        "    for t in range(EPISODE_SIZE):\n",
        "        action = get_action(state, epsilon, model)\n",
        "        next_state, reward, done, _, _ = env.step(action)\n",
        "        next_state = np.array(next_state, dtype=np.float32)\n",
        "        buffer.add(state, action, reward, next_state, done)\n",
        "        episodic_reward += reward\n",
        "        state = next_state\n",
        "\n",
        "        if len(buffer) > BATCH_SIZE:\n",
        "            update_dqn_network(model, optimizer, buffer, BATCH_SIZE)\n",
        "\n",
        "        if done:\n",
        "            break\n",
        "    episode_duration = time.time() - start_time\n",
        "    rewards.append(episodic_reward)\n",
        "    epsilon *= EPS_DECAY\n",
        "    print(f\"Episode {episode + 1}/{NUM_EPISODES}, Reward: {episodic_reward}, Time: {episode_duration:.2f} seconds\")\n",
        "\n",
        "\n",
        "plt.plot(rewards)\n",
        "plt.title('Reward Curve')\n",
        "plt.xlabel('Episodes')\n",
        "plt.ylabel('Cumulative Reward')\n",
        "plt.grid(True)\n",
        "plt.show()\n"
      ],
      "metadata": {
        "colab": {
          "base_uri": "https://localhost:8080/"
        },
        "id": "2twepV4bfwcP",
        "outputId": "a58f7a24-ae90-4679-8483-922749b08add"
      },
      "execution_count": null,
      "outputs": [
        {
          "output_type": "stream",
          "name": "stdout",
          "text": [
            "Episode 1/1000, Reward: -500.0, Time: 25.49 seconds\n",
            "Episode 2/1000, Reward: -500.0, Time: 29.57 seconds\n",
            "Episode 3/1000, Reward: -500.0, Time: 28.46 seconds\n",
            "Episode 4/1000, Reward: -500.0, Time: 29.83 seconds\n",
            "Episode 5/1000, Reward: -500.0, Time: 28.79 seconds\n",
            "Episode 6/1000, Reward: -500.0, Time: 29.28 seconds\n",
            "Episode 7/1000, Reward: -500.0, Time: 28.24 seconds\n",
            "Episode 8/1000, Reward: -500.0, Time: 29.18 seconds\n",
            "Episode 9/1000, Reward: -500.0, Time: 28.80 seconds\n",
            "Episode 10/1000, Reward: -500.0, Time: 30.56 seconds\n",
            "Episode 11/1000, Reward: -500.0, Time: 29.54 seconds\n",
            "Episode 12/1000, Reward: -500.0, Time: 31.04 seconds\n",
            "Episode 13/1000, Reward: -500.0, Time: 29.42 seconds\n",
            "Episode 14/1000, Reward: -500.0, Time: 30.88 seconds\n",
            "Episode 15/1000, Reward: -500.0, Time: 29.67 seconds\n",
            "Episode 16/1000, Reward: -500.0, Time: 31.46 seconds\n",
            "Episode 17/1000, Reward: -500.0, Time: 30.69 seconds\n",
            "Episode 18/1000, Reward: -500.0, Time: 31.60 seconds\n",
            "Episode 19/1000, Reward: -500.0, Time: 30.49 seconds\n",
            "Episode 20/1000, Reward: -500.0, Time: 31.35 seconds\n",
            "Episode 21/1000, Reward: -500.0, Time: 30.11 seconds\n",
            "Episode 22/1000, Reward: -500.0, Time: 29.79 seconds\n",
            "Episode 23/1000, Reward: -500.0, Time: 31.31 seconds\n",
            "Episode 24/1000, Reward: -500.0, Time: 29.93 seconds\n",
            "Episode 25/1000, Reward: -500.0, Time: 30.77 seconds\n",
            "Episode 26/1000, Reward: -500.0, Time: 30.25 seconds\n",
            "Episode 27/1000, Reward: -500.0, Time: 31.75 seconds\n",
            "Episode 28/1000, Reward: -500.0, Time: 30.41 seconds\n",
            "Episode 29/1000, Reward: -500.0, Time: 31.70 seconds\n",
            "Episode 30/1000, Reward: -500.0, Time: 31.04 seconds\n",
            "Episode 31/1000, Reward: -500.0, Time: 31.81 seconds\n",
            "Episode 32/1000, Reward: -500.0, Time: 31.66 seconds\n",
            "Episode 33/1000, Reward: -500.0, Time: 31.18 seconds\n",
            "Episode 34/1000, Reward: -500.0, Time: 30.95 seconds\n",
            "Episode 35/1000, Reward: -500.0, Time: 31.76 seconds\n",
            "Episode 36/1000, Reward: -500.0, Time: 32.68 seconds\n",
            "Episode 37/1000, Reward: -500.0, Time: 31.17 seconds\n",
            "Episode 38/1000, Reward: -500.0, Time: 33.25 seconds\n",
            "Episode 39/1000, Reward: -500.0, Time: 32.92 seconds\n",
            "Episode 40/1000, Reward: -500.0, Time: 31.15 seconds\n",
            "Episode 41/1000, Reward: -500.0, Time: 32.53 seconds\n",
            "Episode 42/1000, Reward: -500.0, Time: 32.04 seconds\n",
            "Episode 43/1000, Reward: -500.0, Time: 32.32 seconds\n",
            "Episode 44/1000, Reward: -500.0, Time: 31.55 seconds\n",
            "Episode 45/1000, Reward: -500.0, Time: 32.80 seconds\n",
            "Episode 46/1000, Reward: -500.0, Time: 33.74 seconds\n",
            "Episode 47/1000, Reward: -500.0, Time: 32.33 seconds\n",
            "Episode 48/1000, Reward: -500.0, Time: 33.09 seconds\n",
            "Episode 49/1000, Reward: -500.0, Time: 32.40 seconds\n",
            "Episode 50/1000, Reward: -500.0, Time: 32.89 seconds\n",
            "Episode 51/1000, Reward: -500.0, Time: 33.71 seconds\n",
            "Episode 52/1000, Reward: -500.0, Time: 33.58 seconds\n",
            "Episode 53/1000, Reward: -500.0, Time: 34.02 seconds\n",
            "Episode 54/1000, Reward: -500.0, Time: 32.60 seconds\n",
            "Episode 55/1000, Reward: -500.0, Time: 34.62 seconds\n",
            "Episode 56/1000, Reward: -500.0, Time: 34.21 seconds\n",
            "Episode 57/1000, Reward: -500.0, Time: 32.65 seconds\n",
            "Episode 58/1000, Reward: -500.0, Time: 33.86 seconds\n",
            "Episode 59/1000, Reward: -500.0, Time: 33.81 seconds\n",
            "Episode 60/1000, Reward: -500.0, Time: 33.71 seconds\n",
            "Episode 61/1000, Reward: -500.0, Time: 34.68 seconds\n",
            "Episode 62/1000, Reward: -500.0, Time: 33.13 seconds\n",
            "Episode 63/1000, Reward: -500.0, Time: 34.68 seconds\n",
            "Episode 64/1000, Reward: -500.0, Time: 35.60 seconds\n",
            "Episode 65/1000, Reward: -500.0, Time: 33.94 seconds\n",
            "Episode 66/1000, Reward: -500.0, Time: 36.61 seconds\n",
            "Episode 67/1000, Reward: -500.0, Time: 34.56 seconds\n",
            "Episode 68/1000, Reward: -500.0, Time: 35.84 seconds\n",
            "Episode 69/1000, Reward: -500.0, Time: 36.26 seconds\n",
            "Episode 70/1000, Reward: -500.0, Time: 36.19 seconds\n",
            "Episode 71/1000, Reward: -500.0, Time: 35.04 seconds\n",
            "Episode 72/1000, Reward: -500.0, Time: 37.18 seconds\n",
            "Episode 73/1000, Reward: -500.0, Time: 34.14 seconds\n",
            "Episode 74/1000, Reward: -500.0, Time: 36.29 seconds\n",
            "Episode 75/1000, Reward: -500.0, Time: 35.30 seconds\n",
            "Episode 76/1000, Reward: -500.0, Time: 35.08 seconds\n",
            "Episode 77/1000, Reward: -500.0, Time: 36.16 seconds\n",
            "Episode 78/1000, Reward: -500.0, Time: 35.98 seconds\n",
            "Episode 79/1000, Reward: -500.0, Time: 36.80 seconds\n",
            "Episode 80/1000, Reward: -500.0, Time: 36.22 seconds\n",
            "Episode 81/1000, Reward: -500.0, Time: 37.49 seconds\n",
            "Episode 82/1000, Reward: -500.0, Time: 35.23 seconds\n",
            "Episode 83/1000, Reward: -500.0, Time: 37.64 seconds\n",
            "Episode 84/1000, Reward: -500.0, Time: 35.98 seconds\n",
            "Episode 85/1000, Reward: -500.0, Time: 35.34 seconds\n",
            "Episode 86/1000, Reward: -500.0, Time: 36.98 seconds\n",
            "Episode 87/1000, Reward: -500.0, Time: 36.34 seconds\n",
            "Episode 88/1000, Reward: -500.0, Time: 35.66 seconds\n",
            "Episode 89/1000, Reward: -500.0, Time: 37.99 seconds\n",
            "Episode 90/1000, Reward: -500.0, Time: 36.67 seconds\n",
            "Episode 91/1000, Reward: -500.0, Time: 36.63 seconds\n",
            "Episode 92/1000, Reward: -500.0, Time: 36.81 seconds\n",
            "Episode 93/1000, Reward: -500.0, Time: 36.23 seconds\n",
            "Episode 94/1000, Reward: -500.0, Time: 35.83 seconds\n",
            "Episode 95/1000, Reward: -500.0, Time: 37.02 seconds\n",
            "Episode 96/1000, Reward: -500.0, Time: 37.58 seconds\n",
            "Episode 97/1000, Reward: -500.0, Time: 35.91 seconds\n",
            "Episode 98/1000, Reward: -500.0, Time: 37.05 seconds\n",
            "Episode 99/1000, Reward: -500.0, Time: 38.67 seconds\n",
            "Episode 100/1000, Reward: -500.0, Time: 38.14 seconds\n",
            "Episode 101/1000, Reward: -500.0, Time: 38.82 seconds\n",
            "Episode 102/1000, Reward: -500.0, Time: 38.37 seconds\n",
            "Episode 103/1000, Reward: -500.0, Time: 38.48 seconds\n",
            "Episode 104/1000, Reward: -500.0, Time: 38.38 seconds\n",
            "Episode 105/1000, Reward: -500.0, Time: 38.61 seconds\n",
            "Episode 106/1000, Reward: -500.0, Time: 38.09 seconds\n",
            "Episode 107/1000, Reward: -500.0, Time: 40.28 seconds\n",
            "Episode 108/1000, Reward: -500.0, Time: 39.56 seconds\n",
            "Episode 109/1000, Reward: -500.0, Time: 40.05 seconds\n",
            "Episode 110/1000, Reward: -500.0, Time: 38.80 seconds\n",
            "Episode 111/1000, Reward: -500.0, Time: 39.54 seconds\n",
            "Episode 112/1000, Reward: -500.0, Time: 38.77 seconds\n",
            "Episode 113/1000, Reward: -500.0, Time: 37.95 seconds\n",
            "Episode 114/1000, Reward: -500.0, Time: 39.42 seconds\n",
            "Episode 115/1000, Reward: -500.0, Time: 39.78 seconds\n",
            "Episode 116/1000, Reward: -500.0, Time: 38.63 seconds\n",
            "Episode 117/1000, Reward: -500.0, Time: 37.80 seconds\n",
            "Episode 118/1000, Reward: -500.0, Time: 38.95 seconds\n",
            "Episode 119/1000, Reward: -500.0, Time: 41.93 seconds\n",
            "Episode 120/1000, Reward: -500.0, Time: 40.32 seconds\n",
            "Episode 121/1000, Reward: -500.0, Time: 40.10 seconds\n",
            "Episode 122/1000, Reward: -500.0, Time: 40.78 seconds\n",
            "Episode 123/1000, Reward: -500.0, Time: 41.52 seconds\n",
            "Episode 124/1000, Reward: -500.0, Time: 39.78 seconds\n",
            "Episode 125/1000, Reward: -500.0, Time: 39.69 seconds\n",
            "Episode 126/1000, Reward: -500.0, Time: 39.72 seconds\n",
            "Episode 127/1000, Reward: -500.0, Time: 39.27 seconds\n",
            "Episode 128/1000, Reward: -500.0, Time: 38.51 seconds\n",
            "Episode 129/1000, Reward: -500.0, Time: 39.85 seconds\n",
            "Episode 130/1000, Reward: -500.0, Time: 39.71 seconds\n",
            "Episode 131/1000, Reward: -500.0, Time: 41.08 seconds\n",
            "Episode 132/1000, Reward: -500.0, Time: 39.61 seconds\n",
            "Episode 133/1000, Reward: -500.0, Time: 41.59 seconds\n",
            "Episode 134/1000, Reward: -500.0, Time: 40.91 seconds\n",
            "Episode 135/1000, Reward: -500.0, Time: 40.68 seconds\n",
            "Episode 136/1000, Reward: -500.0, Time: 40.18 seconds\n",
            "Episode 137/1000, Reward: -500.0, Time: 41.09 seconds\n",
            "Episode 138/1000, Reward: -500.0, Time: 40.86 seconds\n",
            "Episode 139/1000, Reward: -500.0, Time: 39.29 seconds\n",
            "Episode 140/1000, Reward: -500.0, Time: 41.70 seconds\n",
            "Episode 141/1000, Reward: -500.0, Time: 40.85 seconds\n",
            "Episode 142/1000, Reward: -500.0, Time: 39.71 seconds\n",
            "Episode 143/1000, Reward: -500.0, Time: 39.49 seconds\n",
            "Episode 144/1000, Reward: -500.0, Time: 40.42 seconds\n",
            "Episode 145/1000, Reward: -500.0, Time: 40.12 seconds\n",
            "Episode 146/1000, Reward: -500.0, Time: 40.98 seconds\n",
            "Episode 147/1000, Reward: -500.0, Time: 39.36 seconds\n",
            "Episode 148/1000, Reward: -500.0, Time: 41.17 seconds\n",
            "Episode 149/1000, Reward: -500.0, Time: 40.94 seconds\n",
            "Episode 150/1000, Reward: -500.0, Time: 41.14 seconds\n",
            "Episode 151/1000, Reward: -500.0, Time: 40.16 seconds\n",
            "Episode 152/1000, Reward: -500.0, Time: 41.49 seconds\n",
            "Episode 153/1000, Reward: -500.0, Time: 40.12 seconds\n",
            "Episode 154/1000, Reward: -500.0, Time: 40.36 seconds\n",
            "Episode 155/1000, Reward: -500.0, Time: 41.33 seconds\n",
            "Episode 156/1000, Reward: -500.0, Time: 40.57 seconds\n",
            "Episode 157/1000, Reward: -500.0, Time: 40.74 seconds\n",
            "Episode 158/1000, Reward: -500.0, Time: 40.96 seconds\n",
            "Episode 159/1000, Reward: -500.0, Time: 40.94 seconds\n",
            "Episode 160/1000, Reward: -500.0, Time: 40.03 seconds\n",
            "Episode 161/1000, Reward: -500.0, Time: 41.43 seconds\n",
            "Episode 162/1000, Reward: -500.0, Time: 41.96 seconds\n",
            "Episode 163/1000, Reward: -500.0, Time: 41.71 seconds\n",
            "Episode 164/1000, Reward: -500.0, Time: 41.05 seconds\n",
            "Episode 165/1000, Reward: -500.0, Time: 41.49 seconds\n",
            "Episode 166/1000, Reward: -500.0, Time: 41.19 seconds\n",
            "Episode 167/1000, Reward: -500.0, Time: 42.47 seconds\n",
            "Episode 168/1000, Reward: -500.0, Time: 40.66 seconds\n",
            "Episode 169/1000, Reward: -500.0, Time: 40.28 seconds\n",
            "Episode 170/1000, Reward: -500.0, Time: 41.80 seconds\n",
            "Episode 171/1000, Reward: -500.0, Time: 41.83 seconds\n",
            "Episode 172/1000, Reward: -500.0, Time: 41.50 seconds\n",
            "Episode 173/1000, Reward: -500.0, Time: 41.65 seconds\n",
            "Episode 174/1000, Reward: -500.0, Time: 42.17 seconds\n",
            "Episode 175/1000, Reward: -500.0, Time: 41.28 seconds\n",
            "Episode 176/1000, Reward: -500.0, Time: 41.14 seconds\n",
            "Episode 177/1000, Reward: -500.0, Time: 42.20 seconds\n",
            "Episode 178/1000, Reward: -500.0, Time: 41.85 seconds\n",
            "Episode 179/1000, Reward: -500.0, Time: 42.41 seconds\n",
            "Episode 180/1000, Reward: -500.0, Time: 42.78 seconds\n",
            "Episode 181/1000, Reward: -500.0, Time: 43.27 seconds\n",
            "Episode 182/1000, Reward: -500.0, Time: 42.01 seconds\n",
            "Episode 183/1000, Reward: -500.0, Time: 41.56 seconds\n",
            "Episode 184/1000, Reward: -500.0, Time: 42.80 seconds\n",
            "Episode 185/1000, Reward: -500.0, Time: 43.14 seconds\n",
            "Episode 186/1000, Reward: -500.0, Time: 45.21 seconds\n",
            "Episode 187/1000, Reward: -500.0, Time: 43.31 seconds\n",
            "Episode 188/1000, Reward: -500.0, Time: 42.53 seconds\n",
            "Episode 189/1000, Reward: -500.0, Time: 42.96 seconds\n",
            "Episode 190/1000, Reward: -500.0, Time: 43.84 seconds\n",
            "Episode 191/1000, Reward: -500.0, Time: 42.34 seconds\n",
            "Episode 192/1000, Reward: -500.0, Time: 43.69 seconds\n",
            "Episode 193/1000, Reward: -500.0, Time: 42.33 seconds\n",
            "Episode 194/1000, Reward: -500.0, Time: 43.42 seconds\n",
            "Episode 195/1000, Reward: -500.0, Time: 44.01 seconds\n",
            "Episode 196/1000, Reward: -500.0, Time: 44.14 seconds\n",
            "Episode 197/1000, Reward: -500.0, Time: 44.15 seconds\n",
            "Episode 198/1000, Reward: -500.0, Time: 42.55 seconds\n",
            "Episode 199/1000, Reward: -500.0, Time: 43.81 seconds\n",
            "Episode 200/1000, Reward: -500.0, Time: 44.32 seconds\n",
            "Episode 201/1000, Reward: -500.0, Time: 44.45 seconds\n",
            "Episode 202/1000, Reward: -500.0, Time: 44.87 seconds\n",
            "Episode 203/1000, Reward: -500.0, Time: 42.99 seconds\n",
            "Episode 204/1000, Reward: -500.0, Time: 44.03 seconds\n",
            "Episode 205/1000, Reward: -500.0, Time: 45.05 seconds\n",
            "Episode 206/1000, Reward: -500.0, Time: 44.51 seconds\n",
            "Episode 207/1000, Reward: -500.0, Time: 44.24 seconds\n",
            "Episode 208/1000, Reward: -500.0, Time: 44.60 seconds\n",
            "Episode 209/1000, Reward: -500.0, Time: 43.81 seconds\n",
            "Episode 210/1000, Reward: -500.0, Time: 45.13 seconds\n",
            "Episode 211/1000, Reward: -500.0, Time: 44.04 seconds\n",
            "Episode 212/1000, Reward: -500.0, Time: 43.57 seconds\n",
            "Episode 213/1000, Reward: -500.0, Time: 44.83 seconds\n",
            "Episode 214/1000, Reward: -500.0, Time: 43.61 seconds\n",
            "Episode 215/1000, Reward: -500.0, Time: 44.61 seconds\n",
            "Episode 216/1000, Reward: -500.0, Time: 45.63 seconds\n",
            "Episode 217/1000, Reward: -500.0, Time: 44.43 seconds\n",
            "Episode 218/1000, Reward: -500.0, Time: 44.68 seconds\n",
            "Episode 219/1000, Reward: -500.0, Time: 44.24 seconds\n",
            "Episode 220/1000, Reward: -500.0, Time: 44.35 seconds\n",
            "Episode 221/1000, Reward: -500.0, Time: 44.51 seconds\n",
            "Episode 222/1000, Reward: -500.0, Time: 44.72 seconds\n",
            "Episode 223/1000, Reward: -500.0, Time: 45.69 seconds\n",
            "Episode 224/1000, Reward: -500.0, Time: 45.52 seconds\n",
            "Episode 225/1000, Reward: -500.0, Time: 45.05 seconds\n",
            "Episode 226/1000, Reward: -500.0, Time: 44.92 seconds\n",
            "Episode 227/1000, Reward: -500.0, Time: 44.71 seconds\n",
            "Episode 228/1000, Reward: -500.0, Time: 45.38 seconds\n",
            "Episode 229/1000, Reward: -500.0, Time: 45.11 seconds\n",
            "Episode 230/1000, Reward: -500.0, Time: 44.56 seconds\n",
            "Episode 231/1000, Reward: -500.0, Time: 44.41 seconds\n",
            "Episode 232/1000, Reward: -500.0, Time: 45.19 seconds\n",
            "Episode 233/1000, Reward: -500.0, Time: 43.45 seconds\n",
            "Episode 234/1000, Reward: -500.0, Time: 44.53 seconds\n",
            "Episode 235/1000, Reward: -500.0, Time: 44.21 seconds\n",
            "Episode 236/1000, Reward: -500.0, Time: 44.61 seconds\n",
            "Episode 237/1000, Reward: -500.0, Time: 45.27 seconds\n",
            "Episode 238/1000, Reward: -500.0, Time: 44.30 seconds\n",
            "Episode 239/1000, Reward: -500.0, Time: 44.32 seconds\n",
            "Episode 240/1000, Reward: -500.0, Time: 44.79 seconds\n",
            "Episode 241/1000, Reward: -500.0, Time: 44.29 seconds\n",
            "Episode 242/1000, Reward: -500.0, Time: 45.11 seconds\n",
            "Episode 243/1000, Reward: -500.0, Time: 45.48 seconds\n",
            "Episode 244/1000, Reward: -500.0, Time: 46.04 seconds\n",
            "Episode 245/1000, Reward: -500.0, Time: 44.27 seconds\n",
            "Episode 246/1000, Reward: -500.0, Time: 44.62 seconds\n",
            "Episode 247/1000, Reward: -500.0, Time: 44.82 seconds\n",
            "Episode 248/1000, Reward: -500.0, Time: 45.05 seconds\n",
            "Episode 249/1000, Reward: -500.0, Time: 45.03 seconds\n",
            "Episode 250/1000, Reward: -500.0, Time: 45.40 seconds\n",
            "Episode 251/1000, Reward: -500.0, Time: 44.32 seconds\n",
            "Episode 252/1000, Reward: -500.0, Time: 44.17 seconds\n",
            "Episode 253/1000, Reward: -500.0, Time: 45.00 seconds\n",
            "Episode 254/1000, Reward: -500.0, Time: 44.84 seconds\n",
            "Episode 255/1000, Reward: -500.0, Time: 44.62 seconds\n",
            "Episode 256/1000, Reward: -500.0, Time: 44.92 seconds\n",
            "Episode 257/1000, Reward: -500.0, Time: 45.55 seconds\n",
            "Episode 258/1000, Reward: -500.0, Time: 45.26 seconds\n",
            "Episode 259/1000, Reward: -500.0, Time: 44.99 seconds\n",
            "Episode 260/1000, Reward: -500.0, Time: 45.59 seconds\n",
            "Episode 261/1000, Reward: -500.0, Time: 44.59 seconds\n",
            "Episode 262/1000, Reward: -500.0, Time: 45.64 seconds\n",
            "Episode 263/1000, Reward: -500.0, Time: 45.15 seconds\n",
            "Episode 264/1000, Reward: -500.0, Time: 46.07 seconds\n",
            "Episode 265/1000, Reward: -500.0, Time: 46.83 seconds\n",
            "Episode 266/1000, Reward: -500.0, Time: 45.11 seconds\n",
            "Episode 267/1000, Reward: -500.0, Time: 47.61 seconds\n",
            "Episode 268/1000, Reward: -500.0, Time: 47.10 seconds\n",
            "Episode 269/1000, Reward: -500.0, Time: 48.27 seconds\n",
            "Episode 270/1000, Reward: -500.0, Time: 48.22 seconds\n",
            "Episode 271/1000, Reward: -500.0, Time: 47.81 seconds\n",
            "Episode 272/1000, Reward: -500.0, Time: 49.26 seconds\n",
            "Episode 273/1000, Reward: -500.0, Time: 48.30 seconds\n",
            "Episode 274/1000, Reward: -500.0, Time: 47.25 seconds\n",
            "Episode 275/1000, Reward: -500.0, Time: 48.67 seconds\n",
            "Episode 276/1000, Reward: -500.0, Time: 48.51 seconds\n",
            "Episode 277/1000, Reward: -500.0, Time: 47.80 seconds\n",
            "Episode 278/1000, Reward: -500.0, Time: 47.61 seconds\n",
            "Episode 279/1000, Reward: -500.0, Time: 47.22 seconds\n",
            "Episode 280/1000, Reward: -500.0, Time: 47.54 seconds\n",
            "Episode 281/1000, Reward: -500.0, Time: 49.02 seconds\n",
            "Episode 282/1000, Reward: -500.0, Time: 47.08 seconds\n",
            "Episode 283/1000, Reward: -500.0, Time: 47.10 seconds\n",
            "Episode 284/1000, Reward: -500.0, Time: 47.11 seconds\n",
            "Episode 285/1000, Reward: -500.0, Time: 46.77 seconds\n",
            "Episode 286/1000, Reward: -500.0, Time: 47.36 seconds\n",
            "Episode 287/1000, Reward: -500.0, Time: 47.34 seconds\n",
            "Episode 288/1000, Reward: -500.0, Time: 48.19 seconds\n",
            "Episode 289/1000, Reward: -500.0, Time: 46.86 seconds\n",
            "Episode 290/1000, Reward: -500.0, Time: 47.11 seconds\n",
            "Episode 291/1000, Reward: -500.0, Time: 46.41 seconds\n",
            "Episode 292/1000, Reward: -500.0, Time: 47.25 seconds\n",
            "Episode 293/1000, Reward: -500.0, Time: 47.39 seconds\n"
          ]
        }
      ]
    }
  ],
  "metadata": {
    "kernelspec": {
      "display_name": "Python 3",
      "name": "python3"
    },
    "language_info": {
      "codemirror_mode": {
        "name": "ipython",
        "version": 3
      },
      "file_extension": ".py",
      "mimetype": "text/x-python",
      "name": "python",
      "nbconvert_exporter": "python",
      "pygments_lexer": "ipython3",
      "version": "3.11.4"
    },
    "colab": {
      "provenance": [],
      "machine_shape": "hm",
      "gpuType": "A100"
    },
    "accelerator": "GPU"
  },
  "nbformat": 4,
  "nbformat_minor": 0
}